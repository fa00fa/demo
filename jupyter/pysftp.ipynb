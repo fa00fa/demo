{
 "cells": [
  {
   "cell_type": "code",
   "execution_count": 1,
   "metadata": {},
   "outputs": [],
   "source": [
    "import pysftp"
   ]
  },
  {
   "cell_type": "code",
   "execution_count": 52,
   "metadata": {},
   "outputs": [],
   "source": [
    "cnopts = pysftp.CnOpts()\n",
    "cnopts.hostkeys = None\n",
    "hostname = 'mlp-trigger-1.sh.intel.com'\n",
    "username = 'gta'\n",
    "password = 'gta'\n",
    "# upload file\n",
    "# a=r'C:\\Users\\xinfahux\\OneDrive - Intel Corporation\\Desktop\\record.txt'\n",
    "b='/home/gta/pysftp/record.txt'\n",
    "\n",
    "#download file\n",
    "# a=r'C:\\Users\\xinfahux\\OneDrive - Intel Corporation\\Desktop\\helper.py'\n",
    "# b='/home/gta/python3.7/framework.ai.validation.ipex-gpu-nightly/common/helper.py'\n",
    "sftp = pysftp.Connection(host=hostname, username=username, password=password, cnopts=cnopts)\n",
    "#sftp.put(a,b)\n",
    "#sftp.get(b,a)\n",
    "#sftp.remove(b)#删除文件：如果远程没有这个文件则会报错\n",
    "remotepath = r'/home/gta/whls/ww10_00001'\n",
    "\n",
    "s = sftp.mkdir(remotepath)\n",
    "sftp.put(r'dist\\asd.whl')\n",
    "sftp.close()"
   ]
  },
  {
   "cell_type": "code",
   "execution_count": 48,
   "metadata": {},
   "outputs": [
    {
     "data": {
      "text/plain": [
       "'WW10_saee'"
      ]
     },
     "execution_count": 48,
     "metadata": {},
     "output_type": "execute_result"
    }
   ],
   "source": [
    "import time\n",
    "s='saee'\n",
    "'WW' + str(int(time.strftime('%W')) + 1) + '_{}'.format(s)"
   ]
  },
  {
   "cell_type": "code",
   "execution_count": 22,
   "metadata": {},
   "outputs": [
    {
     "data": {
      "text/plain": [
       "(2022, 9, 1)"
      ]
     },
     "execution_count": 22,
     "metadata": {},
     "output_type": "execute_result"
    }
   ],
   "source": [
    "from datetime import datetime\n",
    "datetime.now().isocalendar()"
   ]
  },
  {
   "cell_type": "code",
   "execution_count": 26,
   "metadata": {},
   "outputs": [
    {
     "data": {
      "text/plain": [
       "9.428571428571429"
      ]
     },
     "execution_count": 26,
     "metadata": {},
     "output_type": "execute_result"
    }
   ],
   "source": [
    "time.localtime()[7]/7+1"
   ]
  },
  {
   "cell_type": "code",
   "execution_count": null,
   "metadata": {},
   "outputs": [],
   "source": [
    "import pysftp\n",
    "import time\n",
    "import os\n",
    "import argparse\n",
    "cnopts = pysftp.CnOpts()\n",
    "cnopts.hostkeys = None\n",
    "hostname = 'mlp-trigger-1.sh.intel.com'\n",
    "username = 'gta'\n",
    "password = 'gta'\n",
    "\n",
    "def init_args():\n",
    "    parser = argparse.ArgumentParser(description=f\"send file to remote machine\")\n",
    "    parser.add_argument('--cur_cmt', '-c', required=True, help='current commit id')\n",
    "    parser.add_argument('--filename', '-f', required=True, help='build produces a file name')\n",
    "    args = parser.parse_args()\n",
    "    return args\n",
    "\n",
    "def upload_file(args):\n",
    "    with pysftp.Connection(host=hostname, username=username, password=password, cnopts=cnopts) as sftp:\n",
    "        dirname = 'WW{}_{}'.format(str(int(time.strftime('%W')) + 1), args.cur_cmt)\n",
    "        remote_dirpath = f'/home/gta/whls/{dirname}'\n",
    "        if not sftp.exists(remote_dirpath):\n",
    "            sftp.mkdir(remote_dirpath)\n",
    "            sftp.put(args.filename, os.path.join(remote_dirpath, args.filename))\n",
    "\n",
    "if __name__ == '__main__':\n",
    "    args = init_args()\n",
    "    upload_file(args)"
   ]
  },
  {
   "cell_type": "code",
   "execution_count": 59,
   "metadata": {},
   "outputs": [
    {
     "ename": "SyntaxError",
     "evalue": "invalid syntax (<ipython-input-59-0f504af8e2bc>, line 2)",
     "output_type": "error",
     "traceback": [
      "\u001b[1;36m  File \u001b[1;32m\"<ipython-input-59-0f504af8e2bc>\"\u001b[1;36m, line \u001b[1;32m2\u001b[0m\n\u001b[1;33m    print('y') if a>2\u001b[0m\n\u001b[1;37m                     ^\u001b[0m\n\u001b[1;31mSyntaxError\u001b[0m\u001b[1;31m:\u001b[0m invalid syntax\n"
     ]
    }
   ],
   "source": [
    "python -c \"import pysftp; import time; import os; cnopts = pysftp.CnOpts(); cnopts.hostkeys = None; current_commit = os.environ.get('current_commit'); filename = os.environ.get('filename'); dirname = 'WW{}_{}'.format(str(int(time.strftime('%W')) + 1), current_commit); remote_dirpath = f'/home/gta/whls/{dirname}'; sftp = pysftp.Connection(host='mlp-trigger-1.sh.intel.com', username='gta', password='gta', cnopts=cnopts); sftp.mkdir(remote_dirpath) if not sftp.exists(remote_dirpath) else print('remote_dirpath exists'); sftp.put(filename, os.path.join(remote_dirpath, filename)); sftp.close()\""
   ]
  },
  {
   "cell_type": "code",
   "execution_count": 61,
   "metadata": {},
   "outputs": [],
   "source": [
    "import os"
   ]
  },
  {
   "cell_type": "code",
   "execution_count": null,
   "metadata": {},
   "outputs": [],
   "source": [
    "def build_gpu(machine, py_version){\n",
    "    map_dict = {\n",
    "        node(machine){\n",
    "            cleanWs()\n",
    "            stage(\"torch source\"){\n",
    "                println(\"================================================================================\")\n",
    "                println(\"get torch source code\")\n",
    "                println(\"================================================================================\")\n",
    "                withEnv([\"py_version=${py_version}\"]){\n",
    "                    sh '''\n",
    "                        set -e\n",
    "                        set +x\n",
    "                        mkdir ${WORKSPACE}/python${py_version} && cd ${WORKSPACE}/python${py_version}\n",
    "                        git clone -b pytorch-1.7 --depth=1 https://github.com/intel-innersource/frameworks.ai.pytorch.private-gpu.git\n",
    "                    '''\n",
    "                }\n",
    "            }\n",
    "            stage(\"install torch\"){\n",
    "                println(\"================================================================================\")\n",
    "                println(\"install torch\")\n",
    "                println(\"================================================================================\")\n",
    "                withEnv([\"py_version=${py_version}\"]){\n",
    "                    sh '''\n",
    "                        set -e\n",
    "                        set +x\n",
    "                        if [ -e ${HOME}/miniconda3/etc/profile.d/conda.sh ]; then\n",
    "                            source ${HOME}/miniconda3/etc/profile.d/conda.sh 2>&1 >>/dev/null\n",
    "                        else\n",
    "                            echo -e \"[ Error ] No Conda Found!\"\n",
    "                            exit 1\n",
    "                        fi\n",
    "                        env_path=`find ${HOME}/miniconda3/envs -type f -name python${py_version}`\n",
    "                        if [ -z $env_path ];then\n",
    "                            echo -e \"[ INFO ] Create a virtual environment named py${py_version} and apply it\"\n",
    "                            conda create -y --name py${py_version} python=${py_version}\n",
    "                            conda activate py${py_version}\n",
    "                        else\n",
    "                            path_arr=(`echo $env_path | tr '/' ' '`)\n",
    "                            conda activate ${path_arr[-3]}\n",
    "                        fi\n",
    "                        export LD_LIBRARY_PATH=${HOME}/intel/oneapi/mkl/latest/lib:${HOME}/intel/oneapi/mkl/latest/lib64:${HOME}/intel/oneapi/mkl/latest/lib/intel64:${LD_LIBRARY_PATH}\n",
    "                        installed_commit=$(python -c \"import torch;print(torch.version.git_version[:5])\")\n",
    "                        cd ${WORKSPACE}/python${py_version}/frameworks.ai.pytorch.private-gpu\n",
    "                        current_commit=\"$(git rev-parse --short=5 HEAD)\"\n",
    "                        echo -e \"[ INFO ] current torch commit : $current_commit\"\n",
    "                        echo -e \"[ INFO ] installed torh commit: $installed_commit\"\n",
    "\n",
    "                        if [ \"$current_commit\" == \"$installed_commit\" ]; then\n",
    "                            echo -e \"[ INFO ] PyTorch is already the latest one\"\n",
    "                        else\n",
    "                            echo -e \"[ INFO ] Build PyTorch form source\"\n",
    "                            git submodule update --init --recursive\n",
    "                            python -m pip uninstall -y pybind11\n",
    "                            python -m pip install -r requirements.txt\n",
    "                            INTEL_MKL_DIR=${HOME}/intel/oneapi/mkl/latest python ./setup.py bdist_wheel\n",
    "                            python -m pip install dist/*.whl\n",
    "                            if [ $? -ne 0 ]; then\n",
    "                                echo -e \"[ERROR] Build PyTorch Failed\"\n",
    "                                exit 1\n",
    "                            fi\n",
    "                        fi\n",
    "                        conda deactivate\n",
    "                    '''\n",
    "                }\n",
    "\n",
    "\n",
    "            }\n",
    "\n",
    "            stage(\"ipex source\"){\n",
    "                println(\"================================================================================\")\n",
    "                println(\"get ipex source code\")\n",
    "                println(\"================================================================================\")\n",
    "                withEnv([\"py_version=${py_version}\"]){\n",
    "                    sh '''\n",
    "                        set -e\n",
    "                        set +x\n",
    "                        if [ -e ${WORKSPACE}/python${py_version} ] && [ -d ${WORKSPACE}/python${py_version} ]; then\n",
    "                           cd ${WORKSPACE}/python${py_version}\n",
    "                        else\n",
    "                            mkdir ${WORKSPACE}/python${py_version} && cd ${WORKSPACE}/python${py_version}\n",
    "                        fi\n",
    "                        git clone https://github.com/intel-innersource/frameworks.ai.pytorch.ipex-gpu.git\n",
    "                        cd frameworks.ai.pytorch.ipex-gpu\n",
    "                        git pull origin ${ghprbSourceBranch}\n",
    "                        if [ $? -ne 0 ]; then\n",
    "                            echo -e \"[ERROR] Merge Code ${ghprbSourceBranch} --> master Failed\"\n",
    "                            exit 1\n",
    "                        fi\n",
    "                        git submodule sync\n",
    "                        git submodule update --init --recursive\n",
    "                    '''\n",
    "                }\n",
    "            }\n",
    "            stage(\"code lint\"){\n",
    "                println(\"================================================================================\")\n",
    "                println(\"check code style\")\n",
    "                println(\"================================================================================\")\n",
    "                withEnv([\"py_version=${py_version}\"]){\n",
    "                    sh '''\n",
    "                        set -e\n",
    "                        set +x\n",
    "                        cd ${WORKSPACE}/python${py_version}/frameworks.ai.pytorch.ipex-gpu\n",
    "                        if [ -e ${HOME}/miniconda3/etc/profile.d/conda.sh ]; then\n",
    "                            source ${HOME}/miniconda3/etc/profile.d/conda.sh 2>&1 >>/dev/null\n",
    "                        else\n",
    "                            echo -e \"[ Error ] No Conda Found!\"\n",
    "                            exit 1\n",
    "                        fi\n",
    "                        env_path=`find ${HOME}/miniconda3/envs -type f -name python${py_version}`\n",
    "                        if [ -z $env_path ];then\n",
    "                            echo -e \"[ INFO ] Create a virtual environment named py${py_version} and apply it\"\n",
    "                            conda create -y --name py${py_version} python=${py_version}\n",
    "                            conda activate py${py_version}\n",
    "                        else\n",
    "                            path_arr=(`echo $env_path | tr '/' ' '`)\n",
    "                            conda activate ${path_arr[-3]}\n",
    "                        fi\n",
    "                        find csrc ipex/csrc -name \"*.c\" -o -name \"*.cpp\" -o -name \"*.h\" -o -name \"*.hpp\" | grep -v \"generated\" | xargs clang-format --dry-run -style=file --Werror 2>&1 | tee ./check_clang_format.log\n",
    "                        if [ -s ../check_clang_format.log ]; then\n",
    "                            echo \"[ERROR] clang-format lint check Failed\"\n",
    "                            exit 1\n",
    "                        fi\n",
    "                        python -m pip install flake8 || true\n",
    "                        python -m flake8 2>&1 | tee ./check_flake8.log\n",
    "                        if [ -s ./check_flake8.log ]; then\n",
    "                            echo \"[ERROR] flake8 lint check Failed\"\n",
    "                            exit 1\n",
    "                        fi\n",
    "                    '''\n",
    "                }\n",
    "\n",
    "            }\n",
    "            stage(\"install ipex\"){\n",
    "                println(\"================================================================================\")\n",
    "                println(\"install ipex\")\n",
    "                println(\"================================================================================\")\n",
    "                withEnv([\"py_version=${py_version}\"]){\n",
    "                    sh '''\n",
    "                        set -e\n",
    "                        set +x\n",
    "                        if [ -e ${HOME}/miniconda3/etc/profile.d/conda.sh ]; then\n",
    "                            source ${HOME}/miniconda3/etc/profile.d/conda.sh 2>&1 >>/dev/null\n",
    "                        else\n",
    "                            echo -e \"[ Error ] No Conda Found!\"\n",
    "                            exit 1\n",
    "                        fi\n",
    "                        env_path=`find ${HOME}/miniconda3/envs -type f -name python${py_version}`\n",
    "                        if [ -z $env_path ];then\n",
    "                            echo -e \"[ INFO ] Create a virtual environment named py${py_version} and apply it\"\n",
    "                            conda create -y --name py${py_version} python=${py_version}\n",
    "                            conda activate py${py_version}\n",
    "                        else\n",
    "                            path_arr=(`echo $env_path | tr '/' ' '`)\n",
    "                            conda activate ${path_arr[-3]}\n",
    "                        fi\n",
    "                        [ -e ${HOME}/env.sh ] && source ${HOME}/env.sh 2>&1 >>/dev/null\n",
    "                        cd ${WORKSPACE}/python${py_version}/frameworks.ai.pytorch.ipex-gpu\n",
    "                        python -m pip uninstall -y ipex || true\n",
    "                        python -m pip install -r requirements.txt || true\n",
    "                        git submodule update --init --recursive\n",
    "                        python setup.py bdist_wheel\n",
    "                        python -m pip install dist/*.whl\n",
    "                        if [ $? -ne 0 ]; then\n",
    "                            echo -e \"[ERROR] Build IPEX Failed\"\n",
    "                            exit 1\n",
    "                        fi\n",
    "\n",
    "                    '''\n",
    "                }//withEnv\n",
    "            }\n",
    "            stage(\"move wheel\"){\n",
    "                println(\"================================================================================\")\n",
    "                println(\"move wheel\")\n",
    "                println(\"================================================================================\")\n",
    "                withEnv([\"py_version=${py_version}\"]){\n",
    "                    sh '''\n",
    "                        set -e\n",
    "                        set +x\n",
    "                        cd ${WORKSPACE}/python${py_version}/frameworks.ai.pytorch.ipex-gpu/dist\n",
    "                        python -m pip install pysftp\n",
    "                        export filename=`ls`\n",
    "                        export current_commit =`git log -1 --oneline | awk '{print $1}'`\n",
    "                        python -c \"import pysftp; import time; import os; cnopts = pysftp.CnOpts(); cnopts.hostkeys = None; hostname = 'mlp-trigger-1.sh.intel.com'; username = 'gta'; password = 'gta'; current_commit = os.environ.get('current_commit'); filename = os.environ.get('filename'); dirname = 'WW{}_{}'.format(str(int(time.strftime('%W')) + 1), current_commit); remote_dirpath = f'/home/gta/whls/{dirname}'; sftp = pysftp.Connection(host=hostname, username=username, password=password, cnopts=cnopts); sftp.mkdir(remote_dirpath) if not sftp.exists(remote_dirpath) else print('remote_dirpath exists'); sftp.put(filename, os.path.join(remote_dirpath, filename)); sftp.close()\"\n",
    "                    '''\n",
    "                }//withEnv\n",
    "            }//stage\n",
    "        }//node\n",
    "    };//map\n",
    "    return map_dict;\n",
    "}\n",
    "def parallel_tasks = [:]\n",
    "parallel_tasks[\"python3.7\"] = build_gpu(\"mlp-pytorchdgpu-build\", 3.7)\n",
    "parallel_tasks[\"python3.8\"] = build_gpu(\"mlp-pytorchdgpu-build\", 3.8)\n",
    "parallel_tasks[\"python3.9\"] = build_gpu(\"mlp-pytorchdgpu-build\", 3.9)\n",
    "parallel(parallel_tasks)\n"
   ]
  },
  {
   "cell_type": "code",
   "execution_count": 68,
   "metadata": {},
   "outputs": [
    {
     "name": "stdout",
     "output_type": "stream",
     "text": [
      "{\"a\": 20, \"b\": 30, \"c\": 90, \"name\": \"xinfahuan\"}\n"
     ]
    }
   ],
   "source": [
    "import json\n",
    "d1={\n",
    "    'a':20,\n",
    "    'b':30,\n",
    "    'c':90,\n",
    "    'name':'xinfahuan'\n",
    "}\n",
    "with open('pyload.json','w') as f:\n",
    "    print(json.dumps(d1))"
   ]
  },
  {
   "cell_type": "code",
   "execution_count": null,
   "metadata": {},
   "outputs": [],
   "source": [
    "a=['test_case', 'priority', 'function_status', 'acc_status', 'exp_acc', 'ref_acc', 'cur_acc', 'perf_status', 'exp_perf', 'ref_perf', 'cur_perf', unit, ref_log]"
   ]
  },
  {
   "cell_type": "code",
   "execution_count": null,
   "metadata": {},
   "outputs": [],
   "source": [
    "function_status = None\n",
    "        unit = None\n",
    "        result = [test_case, priority, function_status, acc_status, exp_acc, ref_acc, cur_acc, perf_status, exp_perf, ref_perf, cur_perf, unit, ref_log]"
   ]
  }
 ],
 "metadata": {
  "kernelspec": {
   "display_name": "Python 3",
   "language": "python",
   "name": "python3"
  },
  "language_info": {
   "codemirror_mode": {
    "name": "ipython",
    "version": 3
   },
   "file_extension": ".py",
   "mimetype": "text/x-python",
   "name": "python",
   "nbconvert_exporter": "python",
   "pygments_lexer": "ipython3",
   "version": "3.7.0"
  }
 },
 "nbformat": 4,
 "nbformat_minor": 2
}
