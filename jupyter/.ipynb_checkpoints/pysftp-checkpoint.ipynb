{
 "cells": [
  {
   "cell_type": "code",
   "execution_count": 1,
   "metadata": {},
   "outputs": [],
   "source": [
    "import pysftp"
   ]
  },
  {
   "cell_type": "code",
   "execution_count": 65,
   "metadata": {},
   "outputs": [
    {
     "name": "stdout",
     "output_type": "stream",
     "text": [
      "__init__.py\n",
      "dashboard.py\n",
      "grafana.py\n",
      "helper.py\n",
      "info.py\n",
      "jenkins.py\n",
      "sysmon\n",
      "template.json\n"
     ]
    }
   ],
   "source": [
    "cnopts = pysftp.CnOpts()\n",
    "cnopts.hostkeys = None\n",
    "hostname = '10.239.178.14'\n",
    "username = 'gta'\n",
    "password = 'gta'\n",
    "# upload file\n",
    "# a=r'C:\\Users\\xinfahux\\OneDrive - Intel Corporation\\Desktop\\record.txt'\n",
    "# b='/home/gta/pysftp/record.txt'\n",
    "\n",
    "#download file\n",
    "a=r'C:\\Users\\xinfahux\\OneDrive - Intel Corporation\\Desktop\\helper.py'\n",
    "b='/home/gta/python3.7/framework.ai.validation.ipex-gpu-nightly/common/helper.py'\n",
    "with pysftp.Connection(host=hostname, username=username, password=password, cnopts=cnopts) as sftp:\n",
    "    sftp.cwd('/home/gta/python3.7/framework.ai.validation.ipex-gpu-nightly/common')\n",
    "    dir_form = sftp.listdir_attr()\n",
    "    for f in dir_form:\n",
    "        print(f.filename)\n",
    "    #sftp.put(a,b)\n",
    "    sftp.get(b,a)"
   ]
  },
  {
   "cell_type": "code",
   "execution_count": null,
   "metadata": {},
   "outputs": [],
   "source": []
  }
 ],
 "metadata": {
  "kernelspec": {
   "display_name": "Python 3",
   "language": "python",
   "name": "python3"
  },
  "language_info": {
   "codemirror_mode": {
    "name": "ipython",
    "version": 3
   },
   "file_extension": ".py",
   "mimetype": "text/x-python",
   "name": "python",
   "nbconvert_exporter": "python",
   "pygments_lexer": "ipython3",
   "version": "3.7.0"
  }
 },
 "nbformat": 4,
 "nbformat_minor": 2
}
